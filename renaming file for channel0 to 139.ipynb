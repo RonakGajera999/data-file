{
 "cells": [
  {
   "cell_type": "code",
   "execution_count": 1,
   "id": "1f97be71",
   "metadata": {},
   "outputs": [],
   "source": [
    "from pymatreader import read_mat\n",
    "import pandas as pd\n",
    "import zipfile\n",
    "import os\n"
   ]
  },
  {
   "cell_type": "code",
   "execution_count": 2,
   "id": "70f48d1c",
   "metadata": {},
   "outputs": [],
   "source": [
    "# Define the input folder where CSV files are located\n",
    "input_folder = r'C:\\Users\\GajeraRonakkumarIPCa\\Desktop\\Csv file Dataset\\Matlab to pkl and csv extraction file\\Csv files1'\n",
    "# Define the output folder where you want to move the renamed CSV files\n",
    "output_folder = r'C:\\Users\\GajeraRonakkumarIPCa\\Desktop\\Csv file Dataset\\Matlab to pkl and csv extraction file\\Csv files1\\12'"
   ]
  },
  {
   "cell_type": "code",
   "execution_count": 3,
   "id": "520e1f2e",
   "metadata": {},
   "outputs": [
    {
     "name": "stdout",
     "output_type": "stream",
     "text": [
      "Renamed files saved in C:\\Users\\GajeraRonakkumarIPCa\\Desktop\\Csv file Dataset\\Matlab to pkl and csv extraction file\\Csv files1\\12\n"
     ]
    }
   ],
   "source": [
    "def rename_files_with_continuous_channels(source_directory, destination_directory):\n",
    "    \"\"\"\n",
    "    Renames the CSV files with continuous channel numbers and saves them in a different directory.\n",
    "    \n",
    "    Parameters:\n",
    "    - source_directory (str): Directory containing the original files.\n",
    "    - destination_directory (str): Directory where the renamed files will be saved.\n",
    "    \"\"\"\n",
    "    # Ensure the destination directory exists\n",
    "    if not os.path.exists(destination_directory):\n",
    "        os.makedirs(destination_directory)\n",
    "    \n",
    "    # Listing the CSV files\n",
    "    csv_files = sorted([file for file in os.listdir(source_directory) if file.endswith('.csv')])\n",
    "\n",
    "    channel_counter = 0\n",
    "\n",
    "    for file in csv_files:\n",
    "        # Extracting parts of the filename\n",
    "        parts = file.split(\"_\")\n",
    "        batch_part, channel_part, telemetry_part, cycle_part = parts[1], parts[2], parts[3], parts[4]\n",
    "        \n",
    "        # Forming the new filename\n",
    "        new_filename = f\"Severson_{batch_part}_channel{channel_counter}_{telemetry_part}_{cycle_part}\"\n",
    "        \n",
    "        # Copying and renaming the file to the destination directory\n",
    "        source_file_path = os.path.join(source_directory, file)\n",
    "        destination_file_path = os.path.join(destination_directory, new_filename)\n",
    "        os.rename(source_file_path, destination_file_path)\n",
    "        \n",
    "        # Incrementing the channel counter every two files\n",
    "        if csv_files.index(file) % 2 != 0:\n",
    "            channel_counter += 1\n",
    "\n",
    "    print(f\"Renamed files saved in {destination_directory}\")\n",
    "    \n",
    "rename_files_with_continuous_channels(input_folder, output_folder)"
   ]
  },
  {
   "cell_type": "code",
   "execution_count": null,
   "id": "876a7705",
   "metadata": {},
   "outputs": [],
   "source": []
  }
 ],
 "metadata": {
  "kernelspec": {
   "display_name": "Python 3 (ipykernel)",
   "language": "python",
   "name": "python3"
  },
  "language_info": {
   "codemirror_mode": {
    "name": "ipython",
    "version": 3
   },
   "file_extension": ".py",
   "mimetype": "text/x-python",
   "name": "python",
   "nbconvert_exporter": "python",
   "pygments_lexer": "ipython3",
   "version": "3.10.9"
  }
 },
 "nbformat": 4,
 "nbformat_minor": 5
}
